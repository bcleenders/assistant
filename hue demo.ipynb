{
 "cells": [
  {
   "cell_type": "markdown",
   "id": "59925f3c",
   "metadata": {},
   "source": [
    "# Hue setup"
   ]
  },
  {
   "cell_type": "code",
   "execution_count": 1,
   "id": "412ac27c",
   "metadata": {},
   "outputs": [
    {
     "name": "stdout",
     "output_type": "stream",
     "text": [
      "Found: [{'id': 'ecb5fafffe0d140f', 'internalipaddress': '192.168.86.64', 'port': 443}]\n",
      "Connect button on Hue before continuing\n"
     ]
    }
   ],
   "source": [
    "import requests\n",
    "discovered = requests.get('https://discovery.meethue.com/')\n",
    "discovered.json()\n",
    "\n",
    "if len(discovered.json()) == 0:\n",
    "    print(\"No Hue found on this network :(\")\n",
    "else:\n",
    "    internalIPAddress = discovered.json()[0]['internalipaddress']\n",
    "    print(f\"Found: {discovered.json()}\\nConnect button on Hue before continuing\")"
   ]
  },
  {
   "cell_type": "code",
   "execution_count": 2,
   "id": "b338ed35",
   "metadata": {},
   "outputs": [
    {
     "name": "stdout",
     "output_type": "stream",
     "text": [
      "Read username, it is 'glV5HAHnttjuOCDGtFiceHncWnU9U60yww2UaBOl'\n"
     ]
    }
   ],
   "source": [
    "from huesdk import Hue\n",
    "from pathlib import Path\n",
    "\n",
    "# Ignore warnings from urllib3 about insecure http connection\n",
    "import urllib3\n",
    "urllib3.disable_warnings()\n",
    "\n",
    "username_file = Path(\"username.txt\")\n",
    "username = \"\"\n",
    "\n",
    "if username_file.is_file():\n",
    "    with open(username_file, 'r') as f:\n",
    "        username = f.read()\n",
    "        f.close()\n",
    "        print(f\"Read username, it is '{username}'\")\n",
    "\n",
    "if username == \"\":\n",
    "    print(\"Did not find cached username - connect to bridge instead\")\n",
    "    print(\"Press the 'Connect' button on Hue\")\n",
    "    # ... or set to: \"glV5HAHnttjuOCDGtFiceHncWnU9U60yww2UaBOl\"\n",
    "    username = Hue.connect(bridge_ip=internalIPAddress)\n",
    "    print(f\"Discovered username, it is '{username}'.\")\n",
    "    with open(username_file, 'w') as f:\n",
    "        f.write(username)\n",
    "        f.close()"
   ]
  },
  {
   "cell_type": "code",
   "execution_count": 3,
   "id": "95973a49",
   "metadata": {},
   "outputs": [
    {
     "name": "stdout",
     "output_type": "stream",
     "text": [
      "--------  Top\n",
      "1\n",
      "--------  Spaceship\n",
      "1\n",
      "--------  Counter\n",
      "1\n",
      "--------  Low\n",
      "1\n",
      "--------  Pillar\n",
      "1\n",
      "--------  Mid\n",
      "1\n",
      "--------  Cabinet\n",
      "1\n",
      "--------  My desk\n",
      "127\n",
      "--------  Bram screen \n",
      "127\n",
      "--------  Booth\n",
      "2\n",
      "--------  Lose desk strip\n",
      "1\n",
      "rooms: ['Kitchen', 'Hallway', 'Office', 'Bedroom', 'Upstairs', 'Battlegrounds', 'Living room', 'Downstairs']\n"
     ]
    }
   ],
   "source": [
    "hue = Hue(bridge_ip=internalIPAddress, username=username)\n",
    "\n",
    "lights = hue.get_lights()\n",
    "rooms = hue.get_groups()\n",
    "print(f\"rooms: {[room.name for room in rooms]}\")"
   ]
  },
  {
   "cell_type": "markdown",
   "id": "8ad332a2",
   "metadata": {},
   "source": [
    "# Set up Whisper"
   ]
  },
  {
   "cell_type": "code",
   "execution_count": 4,
   "id": "ccd13dc3",
   "metadata": {},
   "outputs": [],
   "source": [
    "from faster_whisper import WhisperModel\n",
    "model_size = \"base.en\"\n",
    "model = WhisperModel(model_size, device=\"cpu\", compute_type=\"int8\")"
   ]
  },
  {
   "cell_type": "markdown",
   "id": "9523e6c6",
   "metadata": {},
   "source": [
    "# Set up audio"
   ]
  },
  {
   "cell_type": "code",
   "execution_count": 5,
   "id": "4deafe38",
   "metadata": {},
   "outputs": [],
   "source": [
    "from ipywebrtc import AudioRecorder, CameraStream\n",
    "import torchaudio\n",
    "from IPython.display import Audio\n",
    "import matplotlib.pyplot as plt\n",
    "%matplotlib inline\n",
    "import os"
   ]
  },
  {
   "cell_type": "markdown",
   "id": "c6615e38",
   "metadata": {},
   "source": [
    "# String similarity search\n",
    "See: https://huggingface.co/sentence-transformers/all-MiniLM-L6-v2"
   ]
  },
  {
   "cell_type": "code",
   "execution_count": 6,
   "id": "a391a625",
   "metadata": {},
   "outputs": [],
   "source": [
    "from sentence_transformers import SentenceTransformer, util\n",
    "import torch\n",
    "\n",
    "sentencetransformer = SentenceTransformer('sentence-transformers/all-MiniLM-L6-v2')"
   ]
  },
  {
   "cell_type": "code",
   "execution_count": 7,
   "id": "c85a3076",
   "metadata": {},
   "outputs": [
    {
     "name": "stdout",
     "output_type": "stream",
     "text": [
      "['Turn the Top light on', 'Turn the Top light off', 'Turn the Spaceship light on', 'Turn the Spaceship light off', 'Turn the Counter light on', 'Turn the Counter light off', 'Turn the Low light on', 'Turn the Low light off', 'Turn the Pillar light on', 'Turn the Pillar light off', 'Turn the Mid light on', 'Turn the Mid light off', 'Turn the Cabinet light on', 'Turn the Cabinet light off', 'Turn the My desk light on', 'Turn the My desk light off', 'Turn the Bram screen  light on', 'Turn the Bram screen  light off', 'Turn the Booth light on', 'Turn the Booth light off', 'Turn the Lose desk strip light on', 'Turn the Lose desk strip light off', 'Turn the Kitchen light on', 'Turn the Kitchen light off', 'Turn the Hallway light on', 'Turn the Hallway light off', 'Turn the Office light on', 'Turn the Office light off', 'Turn the Bedroom light on', 'Turn the Bedroom light off', 'Turn the Upstairs light on', 'Turn the Upstairs light off', 'Turn the Battlegrounds light on', 'Turn the Battlegrounds light off', 'Turn the Living room light on', 'Turn the Living room light off', 'Turn the Downstairs light on', 'Turn the Downstairs light off']\n"
     ]
    }
   ],
   "source": [
    "commands = []\n",
    "\n",
    "targets = lights + rooms\n",
    "\n",
    "for target in targets:\n",
    "    # Somewhat convoluted - we need a copy of target to keep it in scope\n",
    "    createOnSwitch = lambda t: lambda: t.on()\n",
    "    createOffSwitch = lambda t: lambda: t.off()\n",
    "    \n",
    "    commands.append({\n",
    "        'phrase': f\"Turn the {target.name} light on\",\n",
    "        'action': createOnSwitch(target)\n",
    "    })\n",
    "    commands.append({\n",
    "        'phrase': f\"Turn the {target.name} light off\",\n",
    "        'action': createOffSwitch(target)\n",
    "    })\n",
    "\n",
    "phrases = [command['phrase'] for command in commands]\n",
    "embeddings = sentencetransformer.encode(phrases)\n",
    "print(phrases)"
   ]
  },
  {
   "cell_type": "markdown",
   "id": "a85dfa51",
   "metadata": {},
   "source": [
    "# Inference"
   ]
  },
  {
   "cell_type": "code",
   "execution_count": 8,
   "id": "cfb2177f",
   "metadata": {},
   "outputs": [
    {
     "data": {
      "application/vnd.jupyter.widget-view+json": {
       "model_id": "dd032a46251d4ce1a0a863df45fcdcb2",
       "version_major": 2,
       "version_minor": 0
      },
      "text/plain": [
       "AudioRecorder(audio=Audio(value=b'', format='webm'), stream=CameraStream(constraints={'audio': True, 'video': …"
      ]
     },
     "execution_count": 8,
     "metadata": {},
     "output_type": "execute_result"
    }
   ],
   "source": [
    "# jupyter nbextension enable --py widgetsnbextension\n",
    "camera = CameraStream(constraints={'audio': True,'video':False})\n",
    "recorder = AudioRecorder(stream=camera)\n",
    "recorder"
   ]
  },
  {
   "cell_type": "code",
   "execution_count": 9,
   "id": "f74dcba2",
   "metadata": {},
   "outputs": [
    {
     "name": "stdout",
     "output_type": "stream",
     "text": [
      "command: Turn off the upstairs lights.\n",
      "tensor([[0.5894, 0.6383, 0.4022, 0.4712, 0.4856, 0.5293, 0.5748, 0.6164, 0.4503,\n",
      "         0.5032, 0.4665, 0.5223, 0.5302, 0.5613, 0.4553, 0.4921, 0.3801, 0.4309,\n",
      "         0.4458, 0.5260, 0.4003, 0.4414, 0.4986, 0.5520, 0.6169, 0.6727, 0.4960,\n",
      "         0.5339, 0.5391, 0.5864, 0.8158, 0.8932, 0.3195, 0.4073, 0.5452, 0.5807,\n",
      "         0.7647, 0.8367]])\n",
      "Most similar command: 'Turn the Upstairs light off'\n"
     ]
    }
   ],
   "source": [
    "audio_file = \"audio.webm\"\n",
    "\n",
    "with open(audio_file, 'wb') as f:\n",
    "    f.write(recorder.audio.value)\n",
    "\n",
    "# Whisper\n",
    "# voice to text\n",
    "segments, info = model.transcribe(audio_file, beam_size=5)\n",
    "s = \"\"\n",
    "for segment in segments:\n",
    "    s += segment.text    \n",
    "s = s.strip()\n",
    "print(f\"command: {s}\")\n",
    "\n",
    "# Sententence-transformer\n",
    "# Find most similar command available\n",
    "needle_embedding = sentencetransformer.encode(s)\n",
    "cos_sim = util.cos_sim(needle_embedding, embeddings)\n",
    "print(cos_sim)\n",
    "best_match_index = torch.argmax(cos_sim)\n",
    "print(f\"Most similar command: '{commands[best_match_index]['phrase']}'\")\n",
    "\n",
    "# Execute\n",
    "commands[best_match_index]['action']()"
   ]
  },
  {
   "cell_type": "code",
   "execution_count": null,
   "id": "13d74c10",
   "metadata": {},
   "outputs": [],
   "source": []
  }
 ],
 "metadata": {
  "kernelspec": {
   "display_name": "Python 3 (ipykernel)",
   "language": "python",
   "name": "python3"
  },
  "language_info": {
   "codemirror_mode": {
    "name": "ipython",
    "version": 3
   },
   "file_extension": ".py",
   "mimetype": "text/x-python",
   "name": "python",
   "nbconvert_exporter": "python",
   "pygments_lexer": "ipython3",
   "version": "3.10.0"
  }
 },
 "nbformat": 4,
 "nbformat_minor": 5
}
